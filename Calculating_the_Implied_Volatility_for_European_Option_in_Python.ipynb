{
  "nbformat": 4,
  "nbformat_minor": 0,
  "metadata": {
    "colab": {
      "provenance": [],
      "authorship_tag": "ABX9TyP4mP45nnZBurSAJHW1/j1N",
      "include_colab_link": true
    },
    "kernelspec": {
      "name": "python3",
      "display_name": "Python 3"
    },
    "language_info": {
      "name": "python"
    }
  },
  "cells": [
    {
      "cell_type": "markdown",
      "metadata": {
        "id": "view-in-github",
        "colab_type": "text"
      },
      "source": [
        "<a href=\"https://colab.research.google.com/github/robinjameslee/Calculating-the-Implied-Volatility-for-European-Option-in-Python/blob/main/Calculating_the_Implied_Volatility_for_European_Option_in_Python.ipynb\" target=\"_parent\"><img src=\"https://colab.research.google.com/assets/colab-badge.svg\" alt=\"Open In Colab\"/></a>"
      ]
    },
    {
      "cell_type": "markdown",
      "source": [
        "This notebook demonstrates how to calculate the implied volatility of a European Option\n"
      ],
      "metadata": {
        "id": "6fqJPRR0_wtI"
      }
    },
    {
      "cell_type": "code",
      "execution_count": 35,
      "metadata": {
        "id": "-61o9EzT_tgf"
      },
      "outputs": [],
      "source": [
        "# import numpy as np\n",
        "from numpy import sqrt, log, exp, pi\n",
        "from scipy.stats import norm\n",
        "\n",
        "N = norm.cdf\n",
        "\n",
        "# 1. First we create a function to calculate our european option with black-scholes formula\n",
        "# S = spot\n",
        "# K = strike\n",
        "# t = time to maturity\n",
        "# r = risk-free rate\n",
        "# sigma = annualized volatility\n",
        "# option_type = Call or Put\n",
        "\n",
        "def bs_price(S, K, t, r, sigma, option_type):\n",
        "    d1 = (log(S / K) + (r + sigma ** 2 / 2) * t) / (sigma * sqrt(t))\n",
        "    d2 = d1 - sigma * sqrt(t)\n",
        "\n",
        "    # black-scholes formula\n",
        "    if option_type == 'Call':\n",
        "        return N(d1) * S - N(d2) * K * exp(-r * t)\n",
        "    elif option_type == 'Put':\n",
        "        return N(-d2) * K * exp(-r * t) - N(-d1) * S"
      ]
    },
    {
      "cell_type": "code",
      "source": [
        "# For our example, let's consider the following:\n",
        "S = 100\n",
        "K = 110\n",
        "t = 1 # one year till maturity\n",
        "r = 0.03 # 3% interest rates\n",
        "sigma = 0.35 # annualized volatility\n",
        "option_type = 'Call'\n",
        "\n",
        "our_bs_price = bs_price(S, K, t, r, sigma, option_type)\n",
        "print(f\"our option's price is: {our_bs_price}\")"
      ],
      "metadata": {
        "colab": {
          "base_uri": "https://localhost:8080/"
        },
        "id": "aLhULSe-CxmF",
        "outputId": "748d905a-dddf-4ef0-8be7-ce4b9e46acac"
      },
      "execution_count": 36,
      "outputs": [
        {
          "output_type": "stream",
          "name": "stdout",
          "text": [
            "our option's price is: 6.611207651952377\n"
          ]
        }
      ]
    },
    {
      "cell_type": "code",
      "source": [
        "# 2. Let's try to calculate the implied volatility from the option price using brue force\n",
        "brute_tolerance = 0.0005 # We'll stop calculate if difference between the market price and our calculated price is less than this\n",
        "brute_iter_step = 0.0005 # We move each iteration by this size\n",
        "brute_iterations = 10000 # iterate it 10000 times\n",
        "\n",
        "def brute_force(S, K, t, r, option_type, mkt_price):\n",
        "    sigma = 0.5 # initial value\n",
        "    for i in range(brute_iterations): \n",
        "        iter_price = bs_price(S, K, t, r, sigma, option_type)\n",
        "        diff = mkt_price - iter_price\n",
        "        if abs(diff) < brute_tolerance:\n",
        "            return sigma\n",
        "        elif diff > brute_tolerance:\n",
        "            sigma += brute_iter_step\n",
        "        else:\n",
        "            sigma -= brute_iter_step\n",
        "    return sigma\n",
        "\n",
        "brute_iv = brute_force(S, K, t, r, option_type, our_bs_price)\n",
        "print(f\"our brute force implied volatility is: {brute_iv}\")"
      ],
      "metadata": {
        "colab": {
          "base_uri": "https://localhost:8080/"
        },
        "id": "jyOGiDbyDeQ9",
        "outputId": "9fa886c6-3e87-4e3e-c355-df4ad5a0390f"
      },
      "execution_count": 37,
      "outputs": [
        {
          "output_type": "stream",
          "name": "stdout",
          "text": [
            "our brute force implied volatility is: 0.34999999999999987\n"
          ]
        }
      ]
    },
    {
      "cell_type": "code",
      "source": [
        "# We can also use the Newton Raphson Algorithm to calculate the implied volatility\n",
        "# This method uses vega as part of its calculation\n",
        "newton_tolerance = 0.0005 # We'll stop calculate if difference between the market price and our calculated price is less than this\n",
        "newton_iterations = 10000 # iterate it 10000 times\n",
        "\n",
        "def vega(S, K, t, r, sigma):\n",
        "    d1 = (log(S / K) + (r + sigma ** 2 / 2) * t) / (sigma * sqrt(t))\n",
        "    vega = S  * sqrt(t) * norm.pdf(d1)\n",
        "    return vega\n",
        "\n",
        "def newton_iv(S, K, t, r, option_type, mkt_price):\n",
        "    sigma = 0.5 # initial value\n",
        "    for i in range(newton_iterations):\n",
        "        iter_price = bs_price(S, K, t, r, sigma, option_type)\n",
        "        diff = mkt_price - iter_price\n",
        "        local_vega = vega(S, K, t, r, sigma)\n",
        "        if abs(diff) < newton_tolerance:\n",
        "            return sigma\n",
        "        sigma += diff/local_vega\n",
        "    return sigma\n",
        "\n",
        "newton_iv = newton_iv(S, K, t, r, option_type, our_bs_price)\n",
        "print(f\"our newton implied volatility is: {newton_iv}\")"
      ],
      "metadata": {
        "colab": {
          "base_uri": "https://localhost:8080/"
        },
        "id": "9ExCpe9FGc6Z",
        "outputId": "dc3938fc-fa09-4110-e68e-8ca91e1631b4"
      },
      "execution_count": 38,
      "outputs": [
        {
          "output_type": "stream",
          "name": "stdout",
          "text": [
            "our newton implied volatility is: 0.35000013279439707\n"
          ]
        }
      ]
    }
  ]
}